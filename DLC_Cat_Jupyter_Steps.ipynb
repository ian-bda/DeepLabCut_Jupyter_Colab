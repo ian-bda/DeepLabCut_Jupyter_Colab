{
 "cells": [
  {
   "cell_type": "code",
   "execution_count": 1,
   "id": "866cd68d",
   "metadata": {},
   "outputs": [
    {
     "name": "stdout",
     "output_type": "stream",
     "text": [
      "Loading DLC 2.3.0...\n"
     ]
    },
    {
     "name": "stderr",
     "output_type": "stream",
     "text": [
      "C:\\Users\\ibirchlerdeallende\\Anaconda3\\lib\\site-packages\\qtpy\\__init__.py:267: RuntimeWarning: Selected binding \"pyside6\" could not be found, using \"pyqt5\"\n",
      "  warnings.warn('Selected binding \"{}\" could not be found, '\n"
     ]
    },
    {
     "name": "stdout",
     "output_type": "stream",
     "text": [
      "DLC loaded in light mode; you cannot use any GUI (labeling, relabeling and standalone GUI)\n"
     ]
    }
   ],
   "source": [
    "import deeplabcut"
   ]
  },
  {
   "cell_type": "markdown",
   "id": "861fd582",
   "metadata": {},
   "source": [
    "### After importing deeplabcut, use command: \n",
    "\n",
    "deeplabcut.create_new_project('name', 'creator', [path\\to\\video.mp4])\n",
    "\n",
    "This will make a yaml file called config which will be the base in which you tell the software which bodyparts to learn to estimate"
   ]
  },
  {
   "cell_type": "code",
   "execution_count": 7,
   "id": "de5fce21",
   "metadata": {},
   "outputs": [
    {
     "name": "stdout",
     "output_type": "stream",
     "text": [
      "Created \"C:\\Users\\ibirchlerdeallende\\Documents\\Notebooks\\Cat_video-Ian-2023-02-03\\videos\"\n",
      "Created \"C:\\Users\\ibirchlerdeallende\\Documents\\Notebooks\\Cat_video-Ian-2023-02-03\\labeled-data\"\n",
      "Created \"C:\\Users\\ibirchlerdeallende\\Documents\\Notebooks\\Cat_video-Ian-2023-02-03\\training-datasets\"\n",
      "Created \"C:\\Users\\ibirchlerdeallende\\Documents\\Notebooks\\Cat_video-Ian-2023-02-03\\dlc-models\"\n",
      "Copying the videos\n"
     ]
    }
   ],
   "source": [
    "path_config_file = deeplabcut.create_new_project('Cat_video', 'Ian', [r'C:\\Users\\ibirchlerdeallende\\Documents\\cat_Test\\Cat_Video.mp4'], videotype='mp4', copy_videos = True)\n"
   ]
  },
  {
   "cell_type": "code",
   "execution_count": 1,
   "id": "8b06683a",
   "metadata": {},
   "outputs": [],
   "source": [
    "config_path = r'C:\\Users\\ibirchlerdeallende\\Documents\\Notebooks\\Cat_video-Ian-2023-02-02\\config'\n",
    "# set path to config file"
   ]
  },
  {
   "cell_type": "markdown",
   "id": "d1062a61",
   "metadata": {},
   "source": [
    "At this point you will want to edit your config file to display which body parts you want to track. Here we will be tracking the left ear, right ear, nose, and left paw. See readme file for more info on this."
   ]
  },
  {
   "cell_type": "markdown",
   "id": "bd261600",
   "metadata": {},
   "source": [
    "### You now need to extract each frame from the video"
   ]
  },
  {
   "cell_type": "code",
   "execution_count": 13,
   "id": "33ca4e0e",
   "metadata": {},
   "outputs": [
    {
     "name": "stdout",
     "output_type": "stream",
     "text": [
      "Config file read successfully.\n",
      "Extracting frames based on kmeans ...\n",
      "Kmeans-quantization based extracting of frames from 0.0  seconds to 4.67  seconds.\n",
      "Extracting and downsampling... 140  frames from the video.\n"
     ]
    },
    {
     "name": "stderr",
     "output_type": "stream",
     "text": [
      "140it [00:00, 231.45it/s]\n",
      "C:\\Users\\ibirchlerdeallende\\Anaconda3\\lib\\site-packages\\sklearn\\cluster\\_kmeans.py:1043: UserWarning: MiniBatchKMeans is known to have a memory leak on Windows with MKL, when there are less chunks than available threads. You can prevent it by setting batch_size >= 3072 or by setting the environment variable OMP_NUM_THREADS=1\n",
      "  warnings.warn(\n"
     ]
    },
    {
     "name": "stdout",
     "output_type": "stream",
     "text": [
      "Kmeans clustering ... (this might take a while)\n",
      "Frame 139  not found!\n",
      "Frames were successfully extracted, for the videos listed in the config.yaml file.\n",
      "\n",
      "You can now label the frames using the function 'label_frames' (Note, you should label frames extracted from diverse videos (and many videos; we do not recommend training on single videos!)).\n"
     ]
    }
   ],
   "source": [
    "deeplabcut.extract_frames(path_config_file, 'automatic', 'kmeans', crop = True, userfeedback = False)"
   ]
  },
  {
   "cell_type": "markdown",
   "id": "bb5a04fb",
   "metadata": {},
   "source": [
    "### You now want to go to the deeplabcut gui (see DLC_gui_open) to label each body point on each frame"
   ]
  },
  {
   "cell_type": "code",
   "execution_count": 11,
   "id": "75ffcfdd",
   "metadata": {},
   "outputs": [
    {
     "ename": "ZeroDivisionError",
     "evalue": "division by zero",
     "output_type": "error",
     "traceback": [
      "\u001b[1;31m---------------------------------------------------------------------------\u001b[0m",
      "\u001b[1;31mZeroDivisionError\u001b[0m                         Traceback (most recent call last)",
      "\u001b[1;32m~\\AppData\\Local\\Temp\\ipykernel_4204\\2355680027.py\u001b[0m in \u001b[0;36m<module>\u001b[1;34m\u001b[0m\n\u001b[1;32m----> 1\u001b[1;33m \u001b[0mdeeplabcut\u001b[0m\u001b[1;33m.\u001b[0m\u001b[0mcheck_labels\u001b[0m\u001b[1;33m(\u001b[0m\u001b[0mconfig_path\u001b[0m\u001b[1;33m,\u001b[0m \u001b[0mvisualizeindividuals\u001b[0m\u001b[1;33m=\u001b[0m\u001b[1;32mTrue\u001b[0m\u001b[1;33m/\u001b[0m\u001b[1;32mFalse\u001b[0m\u001b[1;33m)\u001b[0m\u001b[1;33m\u001b[0m\u001b[1;33m\u001b[0m\u001b[0m\n\u001b[0m",
      "\u001b[1;31mZeroDivisionError\u001b[0m: division by zero"
     ]
    }
   ],
   "source": [
    "deeplabcut.check_labels(config_path, visualizeindividuals=True/False)\n",
    "# check your labels after saving them"
   ]
  }
 ],
 "metadata": {
  "kernelspec": {
   "display_name": "Python 3 (ipykernel)",
   "language": "python",
   "name": "python3"
  },
  "language_info": {
   "codemirror_mode": {
    "name": "ipython",
    "version": 3
   },
   "file_extension": ".py",
   "mimetype": "text/x-python",
   "name": "python",
   "nbconvert_exporter": "python",
   "pygments_lexer": "ipython3",
   "version": "3.9.13"
  }
 },
 "nbformat": 4,
 "nbformat_minor": 5
}
